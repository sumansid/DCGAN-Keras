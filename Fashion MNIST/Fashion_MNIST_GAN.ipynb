{
  "nbformat": 4,
  "nbformat_minor": 0,
  "metadata": {
    "colab": {
      "name": "Fashion MNIST GAN.ipynb",
      "provenance": []
    },
    "kernelspec": {
      "name": "python3",
      "display_name": "Python 3"
    }
  },
  "cells": [
    {
      "cell_type": "code",
      "metadata": {
        "id": "1TbrgDZUJCM6",
        "colab_type": "code",
        "colab": {
          "base_uri": "https://localhost:8080/",
          "height": 34
        },
        "outputId": "94d65b72-6f9c-43ec-fbd5-0198bf42b1b7"
      },
      "source": [
        "import tensorflow as tf\n",
        "from numpy import savez_compressed, load\n",
        "from os import listdir\n",
        "from keras.models import load_model\n",
        "from tensorflow import keras\n",
        "import matplotlib.pyplot as plt\n",
        "from PIL import Image \n",
        "import numpy as np\n",
        "from keras.utils.vis_utils import plot_model\n",
        "from keras.models import Sequential\n",
        "from keras.layers import *\n",
        "from keras.initializers import RandomNormal\n",
        "from keras.optimizers import *\n",
        "from numpy.random import randn\n",
        "from numpy.random import randint\n",
        "from numpy import zeros\n",
        "from numpy.random import random\n",
        "from numpy import vstack\n",
        "import numpy as np\n",
        "from keras.datasets.fashion_mnist import load_data\n",
        "from numpy.random import rand \n",
        "from google.colab import drive\n",
        "drive.mount('/content/drive')"
      ],
      "execution_count": 2,
      "outputs": [
        {
          "output_type": "stream",
          "text": [
            "Drive already mounted at /content/drive; to attempt to forcibly remount, call drive.mount(\"/content/drive\", force_remount=True).\n"
          ],
          "name": "stdout"
        }
      ]
    },
    {
      "cell_type": "code",
      "metadata": {
        "id": "t3bMrwUpJJpL",
        "colab_type": "code",
        "colab": {}
      },
      "source": [
        "def prepare_real_data():\n",
        "  (trainx, trainy), (testx, testy) = load_data()\n",
        "  return trainx\n"
      ],
      "execution_count": 15,
      "outputs": []
    },
    {
      "cell_type": "code",
      "metadata": {
        "id": "wc0Kb2VROJuy",
        "colab_type": "code",
        "colab": {}
      },
      "source": [
        "def discriminator_model(input_shape=(28,28,1)):\n",
        "  model = Sequential()\n",
        "  model.add(Conv2D(128,(3,3), strides=(2,2),padding=\"same\",input_shape=input_shape))\n",
        "  model.add(BatchNormalization())\n",
        "  model.add(LeakyReLU(alpha=0.2))\n",
        "  model.add(Conv2D(128,(3,3), strides=(2,2),padding=\"same\",input_shape=input_shape))\n",
        "  model.add(BatchNormalization())\n",
        "  model.add(LeakyReLU(alpha=0.2))\n",
        "  model.add(Flatten())\n",
        "  model.add(Dropout(0.5))\n",
        "  model.add(Dense(1,activation=\"sigmoid\"))\n",
        "  optimizer = Adam(learning_rate=0.0002,beta_1=0.5)\n",
        "  model.compile(loss=\"binary_crossentropy\",optimizer=optimizer, metrics=[\"accuracy\"])\n",
        "  return model\n"
      ],
      "execution_count": 17,
      "outputs": []
    },
    {
      "cell_type": "code",
      "metadata": {
        "id": "OjDilWCQOKxk",
        "colab_type": "code",
        "colab": {}
      },
      "source": [
        ""
      ],
      "execution_count": null,
      "outputs": []
    }
  ]
}